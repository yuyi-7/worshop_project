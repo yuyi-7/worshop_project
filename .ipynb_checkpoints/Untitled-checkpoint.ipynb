{
 "cells": [
  {
   "cell_type": "code",
   "execution_count": 107,
   "metadata": {},
   "outputs": [],
   "source": [
    "import numpy as np\n",
    "from matplotlib import pyplot as plt"
   ]
  },
  {
   "cell_type": "markdown",
   "metadata": {},
   "source": [
    "# 1\n",
    "Implement a function `draw_observation` that given a matrix $A$ and a vector $x^0$, outputs a realization of the random variable $Ax^0+w$, where $w$ is a standard Gaussian."
   ]
  },
  {
   "cell_type": "code",
   "execution_count": 180,
   "metadata": {},
   "outputs": [],
   "source": [
    "def draw_observation(A, x_0):\n",
    "    \"\"\"\n",
    "    function to get the A * x_0 + w, where w is a standard Gaussian\n",
    "    :param A: a matrix or a array\n",
    "    :param x_0: a vector or a array\n",
    "    \"\"\"\n",
    "    Ax = A.dot(x_0)\n",
    "    w = np.random.normal(0,1,size=Ax.shape)\n",
    "    return Ax + w"
   ]
  },
  {
   "cell_type": "code",
   "execution_count": 181,
   "metadata": {},
   "outputs": [
    {
     "data": {
      "text/plain": [
       "array([[-1.17312429],\n",
       "       [-2.96574819],\n",
       "       [ 3.33700951],\n",
       "       [ 0.24125531],\n",
       "       [ 1.63688336]])"
      ]
     },
     "execution_count": 181,
     "metadata": {},
     "output_type": "execute_result"
    }
   ],
   "source": [
    "A = np.random.randn(5, 6)\n",
    "x_0 = np.random.randn(6, 1)\n",
    "draw_observation(A, x_0)"
   ]
  },
  {
   "cell_type": "markdown",
   "metadata": {},
   "source": [
    "# 2\n",
    "Implement a function `prediction_error` that given $A, x^0, x$ outputs the square prediction error $\\frac{1}{n} \\cdot \\left \\| Ax − Ax^0 \\right \\|^2$."
   ]
  },
  {
   "cell_type": "code",
   "execution_count": 83,
   "metadata": {},
   "outputs": [],
   "source": [
    "def prediction_error(A, x0, x):\n",
    "    \"\"\"\n",
    "    a function to get square predicition error\n",
    "    :param A: a matrix or a array\n",
    "    :param x0: a matrix or a vector or a array\n",
    "    :param x: a matrix or a vector or a array\n",
    "    \"\"\"\n",
    "    return np.mean(np.square(A.dot(x) - A.dot(x0)))"
   ]
  },
  {
   "cell_type": "code",
   "execution_count": 84,
   "metadata": {},
   "outputs": [
    {
     "data": {
      "text/plain": [
       "9.307744901018962"
      ]
     },
     "execution_count": 84,
     "metadata": {},
     "output_type": "execute_result"
    }
   ],
   "source": [
    "A = np.random.randn(5, 7)\n",
    "x0 = np.random.randn(7, 1)\n",
    "x = np.random.randn(7, 1)\n",
    "prediction_error(A, x0, x)"
   ]
  },
  {
   "cell_type": "markdown",
   "metadata": {},
   "source": [
    "# 3\n",
    "Implement a function `loglikelihood` that given $A, x, y$ outputs the (scaled) log likelihood $\\frac{1}{n} \\cdot \\left \\| Ax − y \\right \\|^2$."
   ]
  },
  {
   "cell_type": "code",
   "execution_count": 145,
   "metadata": {},
   "outputs": [],
   "source": [
    "def loglikelihood(A, x, y):\n",
    "    \"\"\"\n",
    "    a function to get log likelihood\n",
    "    :param A: a matrix or a array\n",
    "    :param x0: a matrix or a vector or a array\n",
    "    :param y: a matrix or a vector or a array\n",
    "    \"\"\"\n",
    "    return np.mean(np.square(A.dot(x) - y))"
   ]
  },
  {
   "cell_type": "code",
   "execution_count": 146,
   "metadata": {},
   "outputs": [
    {
     "data": {
      "text/plain": [
       "6.725506336378629"
      ]
     },
     "execution_count": 146,
     "metadata": {},
     "output_type": "execute_result"
    }
   ],
   "source": [
    "A = np.random.randn(5, 7)\n",
    "x = np.random.randn(7, 1)\n",
    "y = np.random.randn(5, 1)\n",
    "loglikelihood(A, x, y)"
   ]
  },
  {
   "cell_type": "markdown",
   "metadata": {},
   "source": [
    "# 4\n",
    "Implement a function ```gradient``` that given $A, x, y$ outputs the gradient of the above log likelihood function with respect to $x$\n",
    "\n",
    "Gradient:\n",
    "$$\\frac{2}{n} \\cdot A^T \\cdot (Ax - y) $$"
   ]
  },
  {
   "cell_type": "code",
   "execution_count": 85,
   "metadata": {},
   "outputs": [],
   "source": [
    "def gradient(A, x, y):\n",
    "    \"\"\"\n",
    "    a function to get the gradient of log likelihood\n",
    "    :param A: a matrix or a array\n",
    "    :param x0: a matrix or a vector or a array\n",
    "    :param y: a matrix or a vector or a array\n",
    "    \"\"\"\n",
    "    return 2 * A.T.dot(np.dot(A, x) - y) / len(y)"
   ]
  },
  {
   "cell_type": "code",
   "execution_count": 86,
   "metadata": {},
   "outputs": [
    {
     "data": {
      "text/plain": [
       "array([[-1.21626573],\n",
       "       [ 2.18177332],\n",
       "       [ 2.12824111],\n",
       "       [ 0.37900964],\n",
       "       [-3.15603668],\n",
       "       [ 0.15355268],\n",
       "       [-3.13767921]])"
      ]
     },
     "execution_count": 86,
     "metadata": {},
     "output_type": "execute_result"
    }
   ],
   "source": [
    "A = np.random.randn(5, 7)\n",
    "x = np.random.randn(7, 1)\n",
    "y = np.random.randn(5, 1)\n",
    "gradient(A, x, y)"
   ]
  },
  {
   "cell_type": "markdown",
   "metadata": {},
   "source": [
    "# 5\n",
    "Implement a function `gradient_descent` that given $A, y, T, γ, x^{init}$ runs gradient descent starting at $x^{init}$ for $T$ steps with step size $γ$. This function should use the previous one to compute a gradient in each step. The output of the function should be an array of all $T + 1$ iterates that gradient descent computed."
   ]
  },
  {
   "cell_type": "code",
   "execution_count": 161,
   "metadata": {},
   "outputs": [],
   "source": [
    "def gradient_descent(A, y, T, gamma, x_init):\n",
    "    \"\"\"\n",
    "    a function to implement gradient descent\n",
    "    :param A: a matrix\n",
    "    :param y: label\n",
    "    :param T: decent steps\n",
    "    :param gamma: learning rate\n",
    "    :param x_init: init x\n",
    "    return: the x after T steps gradient descent and iterate process\n",
    "    \"\"\"\n",
    "    x_process = []\n",
    "    for i in range(T):\n",
    "        if i == 0:\n",
    "            x_last = x_init\n",
    "        else:\n",
    "            x_last = x\n",
    "        x = x_last - gamma * gradient(A, x_last, y)\n",
    "        x_process.append(x)\n",
    "    return x, np.array(x_process)"
   ]
  },
  {
   "cell_type": "code",
   "execution_count": 162,
   "metadata": {},
   "outputs": [
    {
     "data": {
      "text/plain": [
       "array([[0.54462003],\n",
       "       [1.11613496],\n",
       "       [0.66615858],\n",
       "       [0.31040817],\n",
       "       [0.41789992],\n",
       "       [1.021399  ],\n",
       "       [0.24985415]])"
      ]
     },
     "execution_count": 162,
     "metadata": {},
     "output_type": "execute_result"
    }
   ],
   "source": [
    "A = np.random.randn(5, 7)\n",
    "y = np.random.randn(5, 1)\n",
    "T = 100\n",
    "gamma = 0.1\n",
    "x_init = np.ones(7).reshape(7,1)\n",
    "x,x_process = gradient_descent(A,y,T,gamma,x_init)\n",
    "x"
   ]
  },
  {
   "cell_type": "markdown",
   "metadata": {},
   "source": [
    "# *6*\n",
    "Implement a function `plot_prediction` that given $ A, x0$ and a list of iterates plots the prediction errors of the iterates."
   ]
  },
  {
   "cell_type": "code",
   "execution_count": 167,
   "metadata": {},
   "outputs": [],
   "source": [
    "def plot_prediction(A, x0, x_process):\n",
    "    \"\"\"\n",
    "    a function to plot prediction error between x_init and gradient descent process\n",
    "    :param A: the A of x_precess\n",
    "    :param x0: the init x\n",
    "    :param x_process: process of gradient descent \n",
    "    \"\"\"\n",
    "    error = []\n",
    "    for i in x_process:\n",
    "        error.append(prediction_error(A, x0, i))\n",
    "    plt.plot(error)\n",
    "    plt.title('plot_prediction')\n",
    "    plt.xlabel('steps')\n",
    "    plt.ylabel('error between x_0 and process')\n",
    "    plt.grid()"
   ]
  },
  {
   "cell_type": "code",
   "execution_count": 168,
   "metadata": {},
   "outputs": [
    {
     "data": {
      "image/png": "[encoded data removed]",
      "text/plain": [
       "<Figure size 432x288 with 1 Axes>"
      ]
     },
     "metadata": {},
     "output_type": "display_data"
    }
   ],
   "source": [
    "plot_prediction(A, x_init, x_process)"
   ]
  },
  {
   "cell_type": "markdown",
   "metadata": {},
   "source": [
    "# 7\n",
    "Implement a function `plot_optimization` that given $A$, $y$ and a list of iterates plots the loglikelihoods of the iterates."
   ]
  },
  {
   "cell_type": "code",
   "execution_count": 173,
   "metadata": {},
   "outputs": [],
   "source": [
    "def plot_optimization(A,y,x_process):\n",
    "    \"\"\"\n",
    "    a function to plot loglikelihoods function between y and gradient descent process\n",
    "    :param A: the A of x_precess\n",
    "    :param y: label\n",
    "    :param x_process: process of gradient descent\n",
    "    \"\"\"\n",
    "    likelihood = []\n",
    "    for i in x_process:\n",
    "        likelihood.append(loglikelihood(A, i, y))\n",
    "    plt.plot(likelihood)\n",
    "    plt.title('plot_optimization')\n",
    "    plt.xlabel('steps')\n",
    "    plt.ylabel('loglikelihood between y and process')\n",
    "    plt.grid()"
   ]
  },
  {
   "cell_type": "code",
   "execution_count": 174,
   "metadata": {},
   "outputs": [
    {
     "data": {
      "image/png": "[encoded data removed]",
      "text/plain": [
       "<Figure size 432x288 with 1 Axes>"
      ]
     },
     "metadata": {},
     "output_type": "display_data"
    }
   ],
   "source": [
    "plot_optimization(A, y, x_process)"
   ]
  },
  {
   "cell_type": "markdown",
   "metadata": {},
   "source": [
    "# 8\n",
    "Implement a function `random_unit_vector` that given $d$ outputs a random unit vector. You can obtain such a vector by first choosing a $d$-dimensional standard Gaussian vector $v$ and then scaling this vector by $1/\\left \\| v \\right \\|$."
   ]
  },
  {
   "cell_type": "code",
   "execution_count": 217,
   "metadata": {},
   "outputs": [],
   "source": [
    "def random_unit_vector(d):\n",
    "    \"\"\"\n",
    "    a function to get random unit vector\n",
    "    :param d: dimension\n",
    "    \"\"\"\n",
    "    data = np.random.randn(d)\n",
    "    return data / np.linalg.norm(data)"
   ]
  },
  {
   "cell_type": "code",
   "execution_count": 221,
   "metadata": {},
   "outputs": [
    {
     "name": "stdout",
     "output_type": "stream",
     "text": [
      "random unit vector: [-0.16785388  0.29901376  0.43980781  0.76287411 -0.32712081]\n",
      "norm: 1.0\n"
     ]
    }
   ],
   "source": [
    "test = random_unit_vector(5)\n",
    "print('random unit vector:',test)\n",
    "print('norm:', np.linalg.norm(test))"
   ]
  },
  {
   "cell_type": "markdown",
   "metadata": {},
   "source": [
    "# *9*\n",
    "Implement a function `random_model` that given $d$ and $n$, outputs a matrix $A$ and a vector $x^0$ such that every entry of $A$ is a standard Gaussian and $x^0$ is a random unit vector."
   ]
  },
  {
   "cell_type": "code",
   "execution_count": null,
   "metadata": {},
   "outputs": [],
   "source": []
  },
  {
   "cell_type": "code",
   "execution_count": null,
   "metadata": {},
   "outputs": [],
   "source": []
  },
  {
   "cell_type": "markdown",
   "metadata": {},
   "source": [
    "# 10\n",
    "Conduct some experiments. Choose values of $d$ and $n$. Choose a step size $γ$ and a number of steps $T$. Choose $A$ and $x^0$ using the function ` random_model`. Choose $x^{init}$ as a random unit vector. Show the plots for the prediction error and the loglikelihoods."
   ]
  },
  {
   "cell_type": "code",
   "execution_count": null,
   "metadata": {},
   "outputs": [],
   "source": []
  },
  {
   "cell_type": "code",
   "execution_count": null,
   "metadata": {},
   "outputs": [],
   "source": []
  },
  {
   "cell_type": "markdown",
   "metadata": {},
   "source": [
    "# 11\n",
    "Optional: Conduct experiments to confirm that the prediction error scales like $d/n$"
   ]
  },
  {
   "cell_type": "code",
   "execution_count": null,
   "metadata": {},
   "outputs": [],
   "source": []
  },
  {
   "cell_type": "code",
   "execution_count": null,
   "metadata": {},
   "outputs": [],
   "source": []
  },
  {
   "cell_type": "markdown",
   "metadata": {},
   "source": [
    "# 12\n",
    "Implement a function `random_sparse_model` similar to random_model but adapted to sparse linear regression. This function should have the sparsity parameter $k$ as an additional argument."
   ]
  },
  {
   "cell_type": "code",
   "execution_count": null,
   "metadata": {},
   "outputs": [],
   "source": []
  },
  {
   "cell_type": "code",
   "execution_count": null,
   "metadata": {},
   "outputs": [],
   "source": []
  },
  {
   "cell_type": "markdown",
   "metadata": {},
   "source": [
    "# 13\n",
    "\n",
    "Optional: Implement LASSO in penalty form using subgradient descent and carry out experiments confirming the prediction error rate of $≤ O(log d) · k / n$. As a function of $d, k, n$ how do you choose the parameter $\\gamma$ for this version of LASSO?"
   ]
  },
  {
   "cell_type": "code",
   "execution_count": null,
   "metadata": {},
   "outputs": [],
   "source": []
  },
  {
   "cell_type": "code",
   "execution_count": null,
   "metadata": {},
   "outputs": [],
   "source": []
  },
  {
   "cell_type": "markdown",
   "metadata": {},
   "source": [
    "# 14\n",
    "Optional: Implement LASSO in constraint form using projected gradient descent and carry out experiments confirming the prediction error rate of $≤ O(log d) · k/n$. As a function of $d, k, n$ how do you choose the parameter $\\gamma$ for this version of LASSO?"
   ]
  },
  {
   "cell_type": "code",
   "execution_count": null,
   "metadata": {},
   "outputs": [],
   "source": []
  },
  {
   "cell_type": "code",
   "execution_count": null,
   "metadata": {},
   "outputs": [],
   "source": []
  },
  {
   "cell_type": "markdown",
   "metadata": {},
   "source": [
    "# 15\n",
    "Optional: Compare the two implementations of LASSO"
   ]
  },
  {
   "cell_type": "code",
   "execution_count": null,
   "metadata": {},
   "outputs": [],
   "source": []
  }
 ],
 "metadata": {
  "kernelspec": {
   "display_name": "Python 3",
   "language": "python",
   "name": "python3"
  },
  "language_info": {
   "codemirror_mode": {
    "name": "ipython",
    "version": 3
   },
   "file_extension": ".py",
   "mimetype": "text/x-python",
   "name": "python",
   "nbconvert_exporter": "python",
   "pygments_lexer": "ipython3",
   "version": "3.6.5"
  }
 },
 "nbformat": 4,
 "nbformat_minor": 2
}
